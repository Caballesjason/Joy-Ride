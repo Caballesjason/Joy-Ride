{
 "cells": [
  {
   "cell_type": "code",
   "execution_count": 1,
   "metadata": {},
   "outputs": [],
   "source": [
    "from pyspark.sql import SparkSession"
   ]
  },
  {
   "cell_type": "code",
   "execution_count": 2,
   "metadata": {},
   "outputs": [
    {
     "name": "stderr",
     "output_type": "stream",
     "text": [
      "Setting default log level to \"WARN\".\n",
      "To adjust logging level use sc.setLogLevel(newLevel). For SparkR, use setLogLevel(newLevel).\n",
      "25/01/07 23:13:09 WARN NativeCodeLoader: Unable to load native-hadoop library for your platform... using builtin-java classes where applicable\n"
     ]
    },
    {
     "data": {
      "text/html": [
       "\n",
       "            <div>\n",
       "                <p><b>SparkSession - in-memory</b></p>\n",
       "                \n",
       "        <div>\n",
       "            <p><b>SparkContext</b></p>\n",
       "\n",
       "            <p><a href=\"http://macbookpro.projectbellerose2:4040\">Spark UI</a></p>\n",
       "\n",
       "            <dl>\n",
       "              <dt>Version</dt>\n",
       "                <dd><code>v3.5.4</code></dd>\n",
       "              <dt>Master</dt>\n",
       "                <dd><code>local[6]</code></dd>\n",
       "              <dt>AppName</dt>\n",
       "                <dd><code>Joy Ride</code></dd>\n",
       "            </dl>\n",
       "        </div>\n",
       "        \n",
       "            </div>\n",
       "        "
      ],
      "text/plain": [
       "<pyspark.sql.session.SparkSession at 0x124307620>"
      ]
     },
     "execution_count": 2,
     "metadata": {},
     "output_type": "execute_result"
    }
   ],
   "source": [
    "# Set Up Spark Session\n",
    "spark = SparkSession.builder.appName(\"Joy Ride\").master(\"local[6]\").getOrCreate()\n",
    "spark"
   ]
  },
  {
   "cell_type": "code",
   "execution_count": 3,
   "metadata": {},
   "outputs": [
    {
     "data": {
      "text/plain": [
       "DataFrame[Unnamed: 0: string, ride_id: string, rideable_type: string, started_at: string, ended_at: string, start_station_name: string, start_station_id: string, end_station_name: string, end_station_id: string, start_lat: string, start_lng: string, end_lat: string, end_lng: string, member_casual: string]"
      ]
     },
     "execution_count": 3,
     "metadata": {},
     "output_type": "execute_result"
    }
   ],
   "source": [
    "# Read data\n",
    "path = \"./data/202407-citibike-tripdata_5.csv\"\n",
    "df = spark.read.csv(path, header=True)\n",
    "df"
   ]
  },
  {
   "cell_type": "code",
   "execution_count": 5,
   "metadata": {},
   "outputs": [
    {
     "data": {
      "text/plain": [
       "[Row(Unnamed: 0='4000000', ride_id='557426B1CE207702', rideable_type='electric_bike', started_at='2024-07-17 19:30:15.471', ended_at='2024-07-17 19:34:22.646', start_station_name='Sullivan St & Washington Sq', start_station_id='5721.01', end_station_name='E 12 St & 3 Ave', end_station_id='5788.12', start_lat='40.73047747', start_lng='-73.99906065', end_lat='40.73223272', end_lng='-73.98889957', member_casual='member'),\n",
       " Row(Unnamed: 0='4000001', ride_id='A60E366FEE8B51E8', rideable_type='electric_bike', started_at='2024-07-15 19:17:52.523', ended_at='2024-07-15 19:25:24.399', start_station_name='Sullivan St & Washington Sq', start_station_id='5721.01', end_station_name='Forsyth St & Grand St', end_station_id='5382.07', start_lat='40.73047747', start_lng='-73.99906065', end_lat='40.71779817737835', end_lng='-73.99316132068634', member_casual='member'),\n",
       " Row(Unnamed: 0='4000002', ride_id='ACA30207F80B5DF9', rideable_type='classic_bike', started_at='2024-07-27 13:34:48.531', ended_at='2024-07-27 13:49:55.913', start_station_name='W 37 St & 10 Ave', start_station_id='6611.02', end_station_name='Perry St & Bleecker St', end_station_id='5922.07', start_lat='40.75660359', start_lng='-73.9979009', end_lat='40.73535398', end_lng='-74.00483091', member_casual='member'),\n",
       " Row(Unnamed: 0='4000003', ride_id='B3A138C956E9A729', rideable_type='electric_bike', started_at='2024-07-23 11:01:36.895', ended_at='2024-07-23 11:06:02.796', start_station_name='Melrose St & Broadway', start_station_id='4801.04', end_station_name='Nostrand Ave & Myrtle Ave', end_station_id='4707.04', start_lat='40.697481', start_lng='-73.935877', end_lat='40.69527008', end_lng='-73.95238108', member_casual='member'),\n",
       " Row(Unnamed: 0='4000004', ride_id='EA0BFE3B299B0672', rideable_type='electric_bike', started_at='2024-07-16 19:19:15.034', ended_at='2024-07-16 19:50:39.140', start_station_name='Melrose St & Broadway', start_station_id='4801.04', end_station_name='W 27 St & 7 Ave', end_station_id='6257.06', start_lat='40.697481', start_lng='-73.935877', end_lat='40.74665', end_lng='-73.99392', member_casual='member'),\n",
       " Row(Unnamed: 0='4000005', ride_id='20E316EFC2787E6C', rideable_type='electric_bike', started_at='2024-07-27 17:32:24.440', ended_at='2024-07-27 17:34:47.518', start_station_name='University Pl & E 8 St', start_station_id='5755.14', end_station_name='E 12 St & 3 Ave', end_station_id='5788.12', start_lat='40.73143724085228', start_lng='-73.99490341544151', end_lat='40.73223272', end_lng='-73.98889957', member_casual='member'),\n",
       " Row(Unnamed: 0='4000006', ride_id='233E45290B569E46', rideable_type='electric_bike', started_at='2024-07-25 17:56:08.032', ended_at='2024-07-25 18:10:47.215', start_station_name='University Pl & E 8 St', start_station_id='5755.14', end_station_name='W 27 St & 7 Ave', end_station_id='6257.06', start_lat='40.73143724085228', start_lng='-73.99490341544151', end_lat='40.74665', end_lng='-73.99392', member_casual='member'),\n",
       " Row(Unnamed: 0='4000007', ride_id='5DB17597537D09AF', rideable_type='electric_bike', started_at='2024-07-29 17:39:57.137', ended_at='2024-07-29 18:13:01.338', start_station_name='University Pl & E 8 St', start_station_id='5755.14', end_station_name='Eastern Pkwy & Washington Ave', end_station_id='3928.08', start_lat='40.73143724085228', start_lng='-73.99490341544151', end_lat='40.6716493', end_lng='-73.9631145', member_casual='member'),\n",
       " Row(Unnamed: 0='4000008', ride_id='FBB4E33B046A3693', rideable_type='electric_bike', started_at='2024-07-24 19:52:58.389', ended_at='2024-07-24 20:01:18.438', start_station_name='University Pl & E 8 St', start_station_id='5755.14', end_station_name='W 27 St & 7 Ave', end_station_id='6257.06', start_lat='40.73143724085228', start_lng='-73.99490341544151', end_lat='40.74665', end_lng='-73.99392', member_casual='member'),\n",
       " Row(Unnamed: 0='4000009', ride_id='564700F34FDE0C42', rideable_type='electric_bike', started_at='2024-07-14 20:40:52.901', ended_at='2024-07-14 21:00:24.837', start_station_name='E 68 St & 3 Ave', start_station_id='6896.16', end_station_name='W 27 St & 6 Ave', end_station_id='6215.07', start_lat='40.76712840349542', start_lng='-73.96224617958069', end_lat='40.74526', end_lng='-73.99062', member_casual='member'),\n",
       " Row(Unnamed: 0='4000010', ride_id='CD5E44BCDC031BB9', rideable_type='classic_bike', started_at='2024-07-23 09:56:11.306', ended_at='2024-07-23 09:58:57.159', start_station_name='University Pl & E 8 St', start_station_id='5755.14', end_station_name='E 12 St & 3 Ave', end_station_id='5788.12', start_lat='40.73143724085228', start_lng='-73.99490341544151', end_lat='40.73223272', end_lng='-73.98889957', member_casual='member'),\n",
       " Row(Unnamed: 0='4000011', ride_id='7D0AD1A473055D17', rideable_type='electric_bike', started_at='2024-07-30 09:55:00.602', ended_at='2024-07-30 10:05:56.225', start_station_name='W 37 St & 10 Ave', start_station_id='6611.02', end_station_name='W 27 St & 6 Ave', end_station_id='6215.07', start_lat='40.75660359', start_lng='-73.9979009', end_lat='40.74526', end_lng='-73.99062', member_casual='member'),\n",
       " Row(Unnamed: 0='4000012', ride_id='DE1BE0BDE7B70F77', rideable_type='electric_bike', started_at='2024-07-24 19:28:46.375', ended_at='2024-07-24 19:35:24.421', start_station_name='N 7 St & Driggs Ave', start_station_id='5340.01', end_station_name='Leonard St & Boerum St', end_station_id='5036.06', start_lat='40.716967', start_lng='-73.956388', end_lat='40.70583339', end_lng='-73.94644578', member_casual='member'),\n",
       " Row(Unnamed: 0='4000013', ride_id='E72373CE8E8F19B8', rideable_type='classic_bike', started_at='2024-07-19 16:20:37.769', ended_at='2024-07-19 16:34:22.326', start_station_name='W 37 St & 10 Ave', start_station_id='6611.02', end_station_name='W 27 St & 6 Ave', end_station_id='6215.07', start_lat='40.75660359', start_lng='-73.9979009', end_lat='40.74526', end_lng='-73.99062', member_casual='member'),\n",
       " Row(Unnamed: 0='4000014', ride_id='83D6FF4CEE81B89C', rideable_type='electric_bike', started_at='2024-07-22 20:32:06.077', ended_at='2024-07-22 20:37:44.866', start_station_name='University Pl & E 8 St', start_station_id='5755.14', end_station_name='Perry St & Bleecker St', end_station_id='5922.07', start_lat='40.73143724085228', start_lng='-73.99490341544151', end_lat='40.73535398', end_lng='-74.00483091', member_casual='member'),\n",
       " Row(Unnamed: 0='4000015', ride_id='FD188FB32F45135C', rideable_type='electric_bike', started_at='2024-07-30 17:16:59.509', ended_at='2024-07-30 17:34:25.825', start_station_name='N 7 St & Driggs Ave', start_station_id='5340.01', end_station_name='Franklin Ave & Quincy St', end_station_id='4410.02', start_lat='40.716967', start_lng='-73.956388', end_lat='40.68636', end_lng='-73.95678', member_casual='casual'),\n",
       " Row(Unnamed: 0='4000016', ride_id='ACD26CCCD278CBD1', rideable_type='electric_bike', started_at='2024-07-20 12:08:35.477', ended_at='2024-07-20 12:16:27.951', start_station_name='W 37 St & 10 Ave', start_station_id='6611.02', end_station_name='W 27 St & 6 Ave', end_station_id='6215.07', start_lat='40.75660359', start_lng='-73.9979009', end_lat='40.74526', end_lng='-73.99062', member_casual='casual'),\n",
       " Row(Unnamed: 0='4000017', ride_id='52DBCC383723C54A', rideable_type='electric_bike', started_at='2024-07-26 18:34:50.547', ended_at='2024-07-26 18:48:08.806', start_station_name='Sullivan St & Washington Sq', start_station_id='5721.01', end_station_name='Allen St & Hester St', end_station_id='5343.10', start_lat='40.73047747', start_lng='-73.99906065', end_lat='40.71606', end_lng='-73.99191', member_casual='casual'),\n",
       " Row(Unnamed: 0='4000018', ride_id='B8F206BB851A18EC', rideable_type='electric_bike', started_at='2024-07-20 13:23:25.748', ended_at='2024-07-20 13:39:23.566', start_station_name='Clinton St & 4 Place', start_station_id='4119.04', end_station_name='Forsyth St & Grand St', end_station_id='5382.07', start_lat='40.6783563', start_lng='-74.00014502', end_lat='40.71779817737835', end_lng='-73.99316132068634', member_casual='casual'),\n",
       " Row(Unnamed: 0='4000019', ride_id='3C11D1034B3D01E9', rideable_type='electric_bike', started_at='2024-07-15 09:30:58.942', ended_at='2024-07-15 09:42:13.271', start_station_name='N 7 St & Driggs Ave', start_station_id='5340.01', end_station_name='Allen St & Hester St', end_station_id='5343.10', start_lat='40.716967', start_lng='-73.956388', end_lat='40.71606', end_lng='-73.99191', member_casual='casual'),\n",
       " Row(Unnamed: 0='4000020', ride_id='CB431CFEFA636B51', rideable_type='electric_bike', started_at='2024-07-20 16:12:01.593', ended_at='2024-07-20 16:37:36.038', start_station_name='Beverley Rd & Flatbush Ave', start_station_id='3180.02', end_station_name='4 Ave & 26 St', end_station_id='3596.04', start_lat='40.64499', start_lng='-73.95818', end_lat='40.660079', end_lng='-73.998633', member_casual='casual'),\n",
       " Row(Unnamed: 0='4000021', ride_id='1F3134D115EA42B7', rideable_type='electric_bike', started_at='2024-07-20 14:21:05.896', ended_at='2024-07-20 14:50:32.452', start_station_name='36 St & Queens Blvd', start_station_id='6260.04', end_station_name='Leonard St & Boerum St', end_station_id='5036.06', start_lat='40.74408', start_lng='-73.92901', end_lat='40.70583339', end_lng='-73.94644578', member_casual='casual'),\n",
       " Row(Unnamed: 0='4000022', ride_id='67542BAED219268B', rideable_type='electric_bike', started_at='2024-07-30 16:32:56.307', ended_at='2024-07-30 16:50:39.775', start_station_name='Union Ave & E 169 St', start_station_id='8064.03', end_station_name='Frederick Douglass Blvd & Harlem River Dr', end_station_id='8100.01', start_lat='40.82995', start_lng='-73.898802', end_lat='40.830702', end_lng='-73.936371', member_casual='member'),\n",
       " Row(Unnamed: 0='4000023', ride_id='5BA7FCE230464662', rideable_type='classic_bike', started_at='2024-07-31 18:07:58.688', ended_at='2024-07-31 18:11:59.789', start_station_name='Adelphi St & Myrtle Ave', start_station_id='4620.02', end_station_name='Dock 72 Way & Market St', end_station_id='4804.02', start_lat='40.69308257', start_lng='-73.97178913', end_lat='40.69985', end_lng='-73.97141', member_casual='member'),\n",
       " Row(Unnamed: 0='4000024', ride_id='5A9DE5CE8D593071', rideable_type='electric_bike', started_at='2024-07-27 11:01:39.089', ended_at='2024-07-27 11:08:45.887', start_station_name='DeKalb Ave & S Portland Ave', start_station_id='4546.06', end_station_name='Franklin Ave & Quincy St', end_station_id='4410.02', start_lat='40.68967018552252', start_lng='-73.97527355121376', end_lat='40.68636', end_lng='-73.95678', member_casual='member'),\n",
       " Row(Unnamed: 0='4000025', ride_id='A68BB27D711141C6', rideable_type='classic_bike', started_at='2024-07-22 21:13:49.101', ended_at='2024-07-22 21:28:48.590', start_station_name='E 2 St & Ave C', start_station_id='5476.03', end_station_name='FDR Drive & E 35 St', end_station_id='6230.04', start_lat='40.7208736', start_lng='-73.98085795', end_lat='40.744219', end_lng='-73.97121214', member_casual='member'),\n",
       " Row(Unnamed: 0='4000026', ride_id='392C209292B2BFFE', rideable_type='electric_bike', started_at='2024-07-27 17:36:43.225', ended_at='2024-07-27 17:45:10.192', start_station_name='Lewis Ave & Greene Ave', start_station_id='4543.07', end_station_name='Franklin Ave & Quincy St', end_station_id='4410.02', start_lat='40.68995', start_lng='-73.9365', end_lat='40.68636', end_lng='-73.95678', member_casual='member'),\n",
       " Row(Unnamed: 0='4000027', ride_id='9CF5C80F93DC038C', rideable_type='electric_bike', started_at='2024-07-30 10:08:51.484', ended_at='2024-07-30 10:38:33.582', start_station_name='36 St & 4 Ave', start_station_id='3420.01', end_station_name='Allen St & Hester St', end_station_id='5343.10', start_lat='40.654144', start_lng='-74.00422', end_lat='40.71606', end_lng='-73.99191', member_casual='member'),\n",
       " Row(Unnamed: 0='4000028', ride_id='FE51024E62003A85', rideable_type='electric_bike', started_at='2024-07-26 11:54:50.274', ended_at='2024-07-26 12:01:19.139', start_station_name='E 2 St & Ave C', start_station_id='5476.03', end_station_name='Allen St & Hester St', end_station_id='5343.10', start_lat='40.7208736', start_lng='-73.98085795', end_lat='40.71606', end_lng='-73.99191', member_casual='casual'),\n",
       " Row(Unnamed: 0='4000029', ride_id='70F1244F2CC0C126', rideable_type='electric_bike', started_at='2024-07-14 22:02:02.057', ended_at='2024-07-14 22:09:00.119', start_station_name='River Ave & E 151 St', start_station_id='7967.04', end_station_name='Frederick Douglass Blvd & Harlem River Dr', end_station_id='8100.01', start_lat='40.822217', start_lng='-73.928939', end_lat='40.830702', end_lng='-73.936371', member_casual='casual'),\n",
       " Row(Unnamed: 0='4000030', ride_id='6A96B80A0F1F9836', rideable_type='electric_bike', started_at='2024-07-15 19:30:32.013', ended_at='2024-07-15 19:50:51.630', start_station_name='Boston Rd & Prospect Ave', start_station_id='8133.08', end_station_name='Frederick Douglass Blvd & Harlem River Dr', end_station_id='8100.01', start_lat='40.833246', start_lng='-73.896599', end_lat='40.830702', end_lng='-73.936371', member_casual='casual'),\n",
       " Row(Unnamed: 0='4000031', ride_id='996A57E016973667', rideable_type='electric_bike', started_at='2024-07-23 16:56:32.478', ended_at='2024-07-23 17:02:17.064', start_station_name='Broadway & W 48 St', start_station_id='6708.04', end_station_name='E 40 St & 5 Ave', end_station_id='6474.11', start_lat='40.76017739537783', start_lng='-73.98486793041229', end_lat='40.752062307', end_lng='-73.9816324043', member_casual='member'),\n",
       " Row(Unnamed: 0='4000032', ride_id='7F7B5B5B0BCB299F', rideable_type='classic_bike', started_at='2024-07-27 14:55:12.782', ended_at='2024-07-27 15:16:47.842', start_station_name='Old Fulton St', start_station_id='4903.08', end_station_name='Allen St & Hester St', end_station_id='5343.10', start_lat='40.70277159', start_lng='-73.99383605', end_lat='40.71606', end_lng='-73.99191', member_casual='casual'),\n",
       " Row(Unnamed: 0='4000033', ride_id='1C1265966D629DC4', rideable_type='electric_bike', started_at='2024-07-18 12:20:27.779', ended_at='2024-07-18 12:26:25.285', start_station_name='University Pl & E 14 St', start_station_id='5905.14', end_station_name='Perry St & Bleecker St', end_station_id='5922.07', start_lat='40.734814', start_lng='-73.992085', end_lat='40.73535398', end_lng='-74.00483091', member_casual='member'),\n",
       " Row(Unnamed: 0='4000034', ride_id='9F927D70B9263867', rideable_type='electric_bike', started_at='2024-07-31 16:41:29.890', ended_at='2024-07-31 16:47:54.288', start_station_name='University Pl & E 14 St', start_station_id='5905.14', end_station_name='W 27 St & 7 Ave', end_station_id='6257.06', start_lat='40.734814', start_lng='-73.992085', end_lat='40.74665', end_lng='-73.99392', member_casual='member'),\n",
       " Row(Unnamed: 0='4000035', ride_id='77F35F7F441FD602', rideable_type='classic_bike', started_at='2024-07-16 19:19:08.931', ended_at='2024-07-16 19:26:20.831', start_station_name='6 Ave & Walker St', start_station_id='5430.10', end_station_name='Forsyth St & Grand St', end_station_id='5382.07', start_lat='40.7197920901383', start_lng='-74.0052238852195', end_lat='40.71779817737835', end_lng='-73.99316132068634', member_casual='member'),\n",
       " Row(Unnamed: 0='4000036', ride_id='EB785AB28A29274F', rideable_type='electric_bike', started_at='2024-07-31 15:37:34.224', ended_at='2024-07-31 15:43:58.427', start_station_name='University Pl & E 14 St', start_station_id='5905.14', end_station_name='Perry St & Bleecker St', end_station_id='5922.07', start_lat='40.734814', start_lng='-73.992085', end_lat='40.73535398', end_lng='-74.00483091', member_casual='member'),\n",
       " Row(Unnamed: 0='4000037', ride_id='D6FBBF233977301F', rideable_type='electric_bike', started_at='2024-07-29 09:10:50.233', ended_at='2024-07-29 09:20:31.292', start_station_name='E 51 St & 1 Ave', start_station_id='6532.06', end_station_name='W 27 St & 6 Ave', end_station_id='6215.07', start_lat='40.75455731', start_lng='-73.96592976', end_lat='40.74526', end_lng='-73.99062', member_casual='member'),\n",
       " Row(Unnamed: 0='4000038', ride_id='ADADA9433D67E42C', rideable_type='classic_bike', started_at='2024-07-16 13:52:26.725', ended_at='2024-07-16 13:58:43.417', start_station_name='Broadway & W 48 St', start_station_id='6708.04', end_station_name='E 40 St & 5 Ave', end_station_id='6474.11', start_lat='40.76017739537783', start_lng='-73.98486793041229', end_lat='40.752062307', end_lng='-73.9816324043', member_casual='member'),\n",
       " Row(Unnamed: 0='4000039', ride_id='2AEC98FA3C21D57A', rideable_type='electric_bike', started_at='2024-07-21 01:44:01.700', ended_at='2024-07-21 02:02:09.567', start_station_name='Lenox Ave & W 126 St', start_station_id='7720.03', end_station_name='W Tremont Ave & Matthewson Rd', end_station_id='8428.04', start_lat='40.808442', start_lng='-73.9452087', end_lat='40.853827', end_lng='-73.920765', member_casual='member'),\n",
       " Row(Unnamed: 0='4000040', ride_id='77B950445425E388', rideable_type='classic_bike', started_at='2024-07-26 16:09:03.635', ended_at='2024-07-26 16:17:26.861', start_station_name='Broadway & W 48 St', start_station_id='6708.04', end_station_name='W 27 St & 7 Ave', end_station_id='6257.06', start_lat='40.76017739537783', start_lng='-73.98486793041229', end_lat='40.74665', end_lng='-73.99392', member_casual='member'),\n",
       " Row(Unnamed: 0='4000041', ride_id='BE2F178E2D67B0C5', rideable_type='electric_bike', started_at='2024-07-20 09:38:42.057', ended_at='2024-07-20 09:53:09.274', start_station_name='3 Ave & E 62 St', start_station_id='6830.04', end_station_name='FDR Drive & E 35 St', end_station_id='6230.04', start_lat='40.76313', start_lng='-73.96527', end_lat='40.744219', end_lng='-73.97121214', member_casual='member'),\n",
       " Row(Unnamed: 0='4000042', ride_id='640D128B8F0D4290', rideable_type='classic_bike', started_at='2024-07-24 13:03:53.526', ended_at='2024-07-24 13:18:05.560', start_station_name='University Pl & E 14 St', start_station_id='5905.14', end_station_name='Allen St & Hester St', end_station_id='5343.10', start_lat='40.734814', start_lng='-73.992085', end_lat='40.71606', end_lng='-73.99191', member_casual='member'),\n",
       " Row(Unnamed: 0='4000043', ride_id='38683350D807AD9D', rideable_type='electric_bike', started_at='2024-07-18 09:19:40.585', ended_at='2024-07-18 09:23:53.879', start_station_name='Broadway & W 48 St', start_station_id='6708.04', end_station_name='E 40 St & 5 Ave', end_station_id='6474.11', start_lat='40.76017739537783', start_lng='-73.98486793041229', end_lat='40.752062307', end_lng='-73.9816324043', member_casual='member'),\n",
       " Row(Unnamed: 0='4000044', ride_id='8C20708D55469C4B', rideable_type='electric_bike', started_at='2024-07-26 16:54:15.178', ended_at='2024-07-26 16:59:57.926', start_station_name='E 51 St & 1 Ave', start_station_id='6532.06', end_station_name='FDR Drive & E 35 St', end_station_id='6230.04', start_lat='40.75455731', start_lng='-73.96592976', end_lat='40.744219', end_lng='-73.97121214', member_casual='member'),\n",
       " Row(Unnamed: 0='4000045', ride_id='5D625AE5359DA686', rideable_type='electric_bike', started_at='2024-07-15 17:08:51.141', ended_at='2024-07-15 17:15:00.576', start_station_name='University Pl & E 14 St', start_station_id='5905.14', end_station_name='W 27 St & 7 Ave', end_station_id='6257.06', start_lat='40.734814', start_lng='-73.992085', end_lat='40.74665', end_lng='-73.99392', member_casual='member'),\n",
       " Row(Unnamed: 0='4000046', ride_id='D6BD637F04FDBD8F', rideable_type='electric_bike', started_at='2024-07-21 17:59:40.278', ended_at='2024-07-21 18:12:39.928', start_station_name='Marcy Ave & Lafayette Ave', start_station_id='4476.03', end_station_name='Flatbush Ave & Ocean Ave', end_station_id='3704.04', start_lat='40.6900815', start_lng='-73.947915', end_lat='40.663657', end_lng='-73.963014', member_casual='casual'),\n",
       " Row(Unnamed: 0='4000047', ride_id='27EA5E2ED7128D26', rideable_type='electric_bike', started_at='2024-07-31 17:45:23.612', ended_at='2024-07-31 18:18:14.371', start_station_name='Old Fulton St', start_station_id='4903.08', end_station_name='W 27 St & 7 Ave', end_station_id='6257.06', start_lat='40.70277159', start_lng='-73.99383605', end_lat='40.74665', end_lng='-73.99392', member_casual='casual'),\n",
       " Row(Unnamed: 0='4000048', ride_id='8BCC52920FF10495', rideable_type='electric_bike', started_at='2024-07-26 17:57:00.853', ended_at='2024-07-26 18:10:15.616', start_station_name='E 72 St & York Ave', start_station_id='6889.12', end_station_name='FDR Drive & E 35 St', end_station_id='6230.04', start_lat='40.76663814', start_lng='-73.95348296', end_lat='40.744219', end_lng='-73.97121214', member_casual='casual'),\n",
       " Row(Unnamed: 0='4000049', ride_id='0028BF0766C00107', rideable_type='electric_bike', started_at='2024-07-19 17:57:48.914', ended_at='2024-07-19 18:04:18.341', start_station_name='W 42 St & Dyer Ave', start_station_id='6644.07', end_station_name='W 27 St & 6 Ave', end_station_id='6215.07', start_lat='40.75898481399634', start_lng='-73.99379968643188', end_lat='40.74526', end_lng='-73.99062', member_casual='casual'),\n",
       " Row(Unnamed: 0='4000050', ride_id='5FE1BC75DC99D31A', rideable_type='classic_bike', started_at='2024-07-28 18:49:24.468', ended_at='2024-07-28 18:59:36.724', start_station_name='Broadway & W 48 St', start_station_id='6708.04', end_station_name='W 27 St & 6 Ave', end_station_id='6215.07', start_lat='40.76017739537783', start_lng='-73.98486793041229', end_lat='40.74526', end_lng='-73.99062', member_casual='casual'),\n",
       " Row(Unnamed: 0='4000051', ride_id='248F924917B19A97', rideable_type='classic_bike', started_at='2024-07-22 01:59:29.017', ended_at='2024-07-22 02:03:43.336', start_station_name='Marcy Ave & Lafayette Ave', start_station_id='4476.03', end_station_name='Nostrand Ave & Myrtle Ave', end_station_id='4707.04', start_lat='40.6900815', start_lng='-73.947915', end_lat='40.69527008', end_lng='-73.95238108', member_casual='casual'),\n",
       " Row(Unnamed: 0='4000052', ride_id='164C1001B58FB8AA', rideable_type='classic_bike', started_at='2024-07-28 00:34:37.458', ended_at='2024-07-28 00:46:35.770', start_station_name='6 Ave & Walker St', start_station_id='5430.10', end_station_name='Forsyth St & Grand St', end_station_id='5382.07', start_lat='40.7197920901383', start_lng='-74.0052238852195', end_lat='40.71779817737835', end_lng='-73.99316132068634', member_casual='casual'),\n",
       " Row(Unnamed: 0='4000053', ride_id='615AF42C019E4D15', rideable_type='electric_bike', started_at='2024-07-24 15:33:15.935', ended_at='2024-07-24 15:43:00.681', start_station_name='Fort Hamilton Pkwy & E 5 St', start_station_id='3240.15', end_station_name='4 Ave & 26 St', end_station_id='3596.04', start_lat='40.649037', start_lng='-73.97673', end_lat='40.660079', end_lng='-73.998633', member_casual='casual'),\n",
       " Row(Unnamed: 0='4000054', ride_id='150AF89BB085ACF5', rideable_type='electric_bike', started_at='2024-07-19 17:33:01.601', ended_at='2024-07-19 17:50:25.963', start_station_name='Bushwick Ave & Forrest St', start_station_id='4914.03', end_station_name='Forsyth St & Grand St', end_station_id='5382.07', start_lat='40.70076', start_lng='-73.93641', end_lat='40.71779817737835', end_lng='-73.99316132068634', member_casual='casual'),\n",
       " Row(Unnamed: 0='4000055', ride_id='1EB9D61BEE41DEB0', rideable_type='classic_bike', started_at='2024-07-31 02:07:52.098', ended_at='2024-07-31 02:22:30.473', start_station_name='6 Ave & Walker St', start_station_id='5430.10', end_station_name='E 20 St & 2 Ave', end_station_id='5971.08', start_lat='40.7197920901383', start_lng='-74.0052238852195', end_lat='40.73587678', end_lng='-73.98205027', member_casual='casual'),\n",
       " Row(Unnamed: 0='4000056', ride_id='5CD56DE0AEFB1AF3', rideable_type='electric_bike', started_at='2024-07-31 18:19:51.090', ended_at='2024-07-31 18:27:09.830', start_station_name='University Pl & E 14 St', start_station_id='5905.14', end_station_name='W 27 St & 6 Ave', end_station_id='6215.07', start_lat='40.734814', start_lng='-73.992085', end_lat='40.74526', end_lng='-73.99062', member_casual='casual'),\n",
       " Row(Unnamed: 0='4000057', ride_id='1BA7CD17D2A4D36D', rideable_type='electric_bike', started_at='2024-07-19 19:07:24.023', ended_at='2024-07-19 19:25:14.713', start_station_name='University Pl & E 14 St', start_station_id='5905.14', end_station_name='Forsyth St & Grand St', end_station_id='5382.07', start_lat='40.734814', start_lng='-73.992085', end_lat='40.71779817737835', end_lng='-73.99316132068634', member_casual='casual'),\n",
       " Row(Unnamed: 0='4000058', ride_id='5D22B0E6B3459E80', rideable_type='electric_bike', started_at='2024-07-24 09:59:44.389', ended_at='2024-07-24 10:03:45.720', start_station_name='Broadway & W 48 St', start_station_id='6708.04', end_station_name='E 40 St & 5 Ave', end_station_id='6474.11', start_lat='40.76017739537783', start_lng='-73.98486793041229', end_lat='40.752062307', end_lng='-73.9816324043', member_casual='casual'),\n",
       " Row(Unnamed: 0='4000059', ride_id='ECE77E7DC43E564D', rideable_type='electric_bike', started_at='2024-07-18 15:05:25.129', ended_at='2024-07-18 15:11:55.681', start_station_name='University Pl & E 14 St', start_station_id='5905.14', end_station_name='W 27 St & 6 Ave', end_station_id='6215.07', start_lat='40.734814', start_lng='-73.992085', end_lat='40.74526', end_lng='-73.99062', member_casual='member'),\n",
       " Row(Unnamed: 0='4000060', ride_id='23F58F817DED5C81', rideable_type='classic_bike', started_at='2024-07-18 18:06:59.639', ended_at='2024-07-18 18:32:17.302', start_station_name='W 42 St & Dyer Ave', start_station_id='6644.07', end_station_name='FDR Drive & E 35 St', end_station_id='6230.04', start_lat='40.75898481399634', start_lng='-73.99379968643188', end_lat='40.744219', end_lng='-73.97121214', member_casual='member'),\n",
       " Row(Unnamed: 0='4000061', ride_id='773C80E6B78D62F6', rideable_type='classic_bike', started_at='2024-07-28 01:38:22.523', ended_at='2024-07-28 02:22:38.483', start_station_name='Old Fulton St', start_station_id='4903.08', end_station_name='Forsyth St & Grand St', end_station_id='5382.07', start_lat='40.70277159', start_lng='-73.99383605', end_lat='40.71779817737835', end_lng='-73.99316132068634', member_casual='casual'),\n",
       " Row(Unnamed: 0='4000062', ride_id='5029D605E430FE8C', rideable_type='classic_bike', started_at='2024-07-22 16:11:02.124', ended_at='2024-07-22 16:19:39.114', start_station_name='Broadway & W 48 St', start_station_id='6708.04', end_station_name='W 27 St & 7 Ave', end_station_id='6257.06', start_lat='40.76017739537783', start_lng='-73.98486793041229', end_lat='40.74665', end_lng='-73.99392', member_casual='member'),\n",
       " Row(Unnamed: 0='4000063', ride_id='5BF83C3246A1817D', rideable_type='electric_bike', started_at='2024-07-24 09:47:26.783', ended_at='2024-07-24 10:00:08.985', start_station_name='6 Ave & Walker St', start_station_id='5430.10', end_station_name='W 27 St & 6 Ave', end_station_id='6215.07', start_lat='40.7197920901383', start_lng='-74.0052238852195', end_lat='40.74526', end_lng='-73.99062', member_casual='member'),\n",
       " Row(Unnamed: 0='4000064', ride_id='2C6A435C120082ED', rideable_type='classic_bike', started_at='2024-07-22 19:23:22.822', ended_at='2024-07-22 20:05:51.961', start_station_name='University Pl & E 14 St', start_station_id='5905.14', end_station_name='W 27 St & 7 Ave', end_station_id='6257.06', start_lat='40.734814', start_lng='-73.992085', end_lat='40.74665', end_lng='-73.99392', member_casual='member'),\n",
       " Row(Unnamed: 0='4000065', ride_id='FC190757B50E8789', rideable_type='electric_bike', started_at='2024-07-17 13:45:15.049', ended_at='2024-07-17 13:50:18.909', start_station_name='Broadway & W 48 St', start_station_id='6708.04', end_station_name='E 40 St & 5 Ave', end_station_id='6474.11', start_lat='40.76017739537783', start_lng='-73.98486793041229', end_lat='40.752062307', end_lng='-73.9816324043', member_casual='member'),\n",
       " Row(Unnamed: 0='4000066', ride_id='80E5B47A750CC2A8', rideable_type='electric_bike', started_at='2024-07-18 08:03:51.530', ended_at='2024-07-18 08:09:08.824', start_station_name='6 Ave & 21 St', start_station_id='3628.11', end_station_name='4 Ave & 26 St', end_station_id='3596.04', start_lat='40.66016', start_lng='-73.990974', end_lat='40.660079', end_lng='-73.998633', member_casual='member'),\n",
       " Row(Unnamed: 0='4000067', ride_id='E9F6EDA8C1463771', rideable_type='classic_bike', started_at='2024-07-27 15:27:52.458', ended_at='2024-07-27 15:34:32.257', start_station_name='University Pl & E 14 St', start_station_id='5905.14', end_station_name='W 27 St & 6 Ave', end_station_id='6215.07', start_lat='40.734814', start_lng='-73.992085', end_lat='40.74526', end_lng='-73.99062', member_casual='member'),\n",
       " Row(Unnamed: 0='4000068', ride_id='D3B497D52B038C58', rideable_type='electric_bike', started_at='2024-07-29 09:14:29.775', ended_at='2024-07-29 09:19:23.067', start_station_name='Broadway & W 48 St', start_station_id='6708.04', end_station_name='E 40 St & 5 Ave', end_station_id='6474.11', start_lat='40.76017739537783', start_lng='-73.98486793041229', end_lat='40.752062307', end_lng='-73.9816324043', member_casual='member'),\n",
       " Row(Unnamed: 0='4000069', ride_id='CF453B2957F27D61', rideable_type='electric_bike', started_at='2024-07-25 17:53:26.278', ended_at='2024-07-25 18:11:27.132', start_station_name='Broadway & W 48 St', start_station_id='6708.04', end_station_name='Perry St & Bleecker St', end_station_id='5922.07', start_lat='40.76017739537783', start_lng='-73.98486793041229', end_lat='40.73535398', end_lng='-74.00483091', member_casual='member'),\n",
       " Row(Unnamed: 0='4000070', ride_id='5E22431F26795E52', rideable_type='electric_bike', started_at='2024-07-23 08:48:02.681', ended_at='2024-07-23 09:03:36.470', start_station_name='E 72 St & York Ave', start_station_id='6889.12', end_station_name='E 40 St & 5 Ave', end_station_id='6474.11', start_lat='40.76663814', start_lng='-73.95348296', end_lat='40.752062307', end_lng='-73.9816324043', member_casual='member'),\n",
       " Row(Unnamed: 0='4000071', ride_id='2385509E98E8A993', rideable_type='electric_bike', started_at='2024-07-15 07:20:11.242', ended_at='2024-07-15 07:30:47.653', start_station_name='43 St & Broadway', start_station_id='6670.03', end_station_name='Steinway St & 19 Ave', end_station_id='7220.01', start_lat='40.7577284', start_lng='-73.9166368', end_lat='40.778089', end_lng='-73.899558', member_casual='member'),\n",
       " Row(Unnamed: 0='4000072', ride_id='06138686895D0897', rideable_type='electric_bike', started_at='2024-07-24 20:08:27.545', ended_at='2024-07-24 20:13:59.389', start_station_name='6 Ave & Walker St', start_station_id='5430.10', end_station_name='Forsyth St & Grand St', end_station_id='5382.07', start_lat='40.7197920901383', start_lng='-74.0052238852195', end_lat='40.71779817737835', end_lng='-73.99316132068634', member_casual='member'),\n",
       " Row(Unnamed: 0='4000073', ride_id='BC86E86015F92280', rideable_type='electric_bike', started_at='2024-07-25 17:50:45.110', ended_at='2024-07-25 17:53:26.040', start_station_name='6 Ave & 21 St', start_station_id='3628.11', end_station_name='4 Ave & 26 St', end_station_id='3596.04', start_lat='40.66016', start_lng='-73.990974', end_lat='40.660079', end_lng='-73.998633', member_casual='member'),\n",
       " Row(Unnamed: 0='4000074', ride_id='3B3EEB4B96B5D1FB', rideable_type='electric_bike', started_at='2024-07-17 18:14:58.826', ended_at='2024-07-17 18:24:05.580', start_station_name='8 Ave & W 27 St', start_station_id='6297.07', end_station_name='E 40 St & 5 Ave', end_station_id='6474.11', start_lat='40.747968', start_lng='-73.996637', end_lat='40.752062307', end_lng='-73.9816324043', member_casual='casual'),\n",
       " Row(Unnamed: 0='4000075', ride_id='B4894AC5345904F8', rideable_type='classic_bike', started_at='2024-07-27 23:14:54.471', ended_at='2024-07-27 23:20:44.252', start_station_name='Bergen St & Vanderbilt Ave', start_station_id='4157.10', end_station_name='Franklin Ave & Quincy St', end_station_id='4410.02', start_lat='40.6794388', start_lng='-73.9680438', end_lat='40.68636', end_lng='-73.95678', member_casual='member'),\n",
       " Row(Unnamed: 0='4000076', ride_id='B02D5936009C0A33', rideable_type='electric_bike', started_at='2024-07-29 17:55:26.199', ended_at='2024-07-29 18:00:01.185', start_station_name='W 17 St & 8 Ave', start_station_id='6148.02', end_station_name='W 27 St & 7 Ave', end_station_id='6257.06', start_lat='40.74177603', start_lng='-74.00149746', end_lat='40.74665', end_lng='-73.99392', member_casual='member'),\n",
       " Row(Unnamed: 0='4000077', ride_id='309CD97BDF9906A4', rideable_type='electric_bike', started_at='2024-07-23 16:56:39.536', ended_at='2024-07-23 17:05:48.801', start_station_name='Harrison Pl & Porter Ave', start_station_id='5090.06', end_station_name='Leonard St & Boerum St', end_station_id='5036.06', start_lat='40.70686', start_lng='-73.92851', end_lat='40.70583339', end_lng='-73.94644578', member_casual='member'),\n",
       " Row(Unnamed: 0='4000078', ride_id='0503F3B252CA33E0', rideable_type='electric_bike', started_at='2024-07-20 22:29:43.069', ended_at='2024-07-20 22:42:53.118', start_station_name='Knickerbocker Ave & Thames St', start_station_id='5018.06', end_station_name='Nostrand Ave & Myrtle Ave', end_station_id='4707.04', start_lat='40.70539', start_lng='-73.92976', end_lat='40.69527008', end_lng='-73.95238108', member_casual='member'),\n",
       " Row(Unnamed: 0='4000079', ride_id='1FFE9EEC883814D3', rideable_type='electric_bike', started_at='2024-07-20 12:12:10.102', ended_at='2024-07-20 12:23:22.421', start_station_name='W 17 St & 8 Ave', start_station_id='6148.02', end_station_name='FDR Drive & E 35 St', end_station_id='6230.04', start_lat='40.74177603', start_lng='-74.00149746', end_lat='40.744219', end_lng='-73.97121214', member_casual='member'),\n",
       " Row(Unnamed: 0='4000080', ride_id='F140732A921F87B5', rideable_type='classic_bike', started_at='2024-07-22 23:17:10.937', ended_at='2024-07-22 23:29:46.172', start_station_name='Willoughby Ave & Wyckoff Ave', start_station_id='5010.02', end_station_name='56 Dr & 59 St', end_station_id='5579.02', start_lat='40.705614', start_lng='-73.92153', end_lat='40.72403', end_lng='-73.90853', member_casual='member'),\n",
       " Row(Unnamed: 0='4000081', ride_id='D743A8CE08199F0C', rideable_type='electric_bike', started_at='2024-07-24 19:58:24.805', ended_at='2024-07-24 20:01:01.869', start_station_name='Windsor Pl & Howard Pl', start_station_id='3579.04', end_station_name='Prospect Park SW & 16 St', end_station_id='3498.09', start_lat='40.65949055893896', start_lng='-73.98013919591904', end_lat='40.657265', end_lng='-73.974165', member_casual='member'),\n",
       " Row(Unnamed: 0='4000082', ride_id='489A2A01E825D0AB', rideable_type='electric_bike', started_at='2024-07-18 22:51:30.402', ended_at='2024-07-18 22:59:00.847', start_station_name='Knickerbocker Ave & Thames St', start_station_id='5018.06', end_station_name='Nostrand Ave & Myrtle Ave', end_station_id='4707.04', start_lat='40.70539', start_lng='-73.92976', end_lat='40.69527008', end_lng='-73.95238108', member_casual='member'),\n",
       " Row(Unnamed: 0='4000083', ride_id='FA3EC503B40BFE5E', rideable_type='electric_bike', started_at='2024-07-17 23:00:26.206', ended_at='2024-07-17 23:06:33.722', start_station_name='DeKalb Ave & Vanderbilt Ave', start_station_id='4461.04', end_station_name='Franklin Ave & Quincy St', end_station_id='4410.02', start_lat='40.68940747', start_lng='-73.96885458', end_lat='40.68636', end_lng='-73.95678', member_casual='member'),\n",
       " Row(Unnamed: 0='4000084', ride_id='8E39BEFBCF7D6CB5', rideable_type='classic_bike', started_at='2024-07-20 23:27:01.951', ended_at='2024-07-20 23:40:28.312', start_station_name='E 7 St & Ave A', start_station_id='5626.07', end_station_name='Allen St & Hester St', end_station_id='5343.10', start_lat='40.72621788', start_lng='-73.98379855', end_lat='40.71606', end_lng='-73.99191', member_casual='casual'),\n",
       " Row(Unnamed: 0='4000085', ride_id='38EBF0712AFAB543', rideable_type='electric_bike', started_at='2024-07-21 11:19:40.567', ended_at='2024-07-21 11:34:13.412', start_station_name='Bergen St & Vanderbilt Ave', start_station_id='4157.10', end_station_name='Flatbush Ave & Ocean Ave', end_station_id='3704.04', start_lat='40.6794388', start_lng='-73.9680438', end_lat='40.663657', end_lng='-73.963014', member_casual='casual'),\n",
       " Row(Unnamed: 0='4000086', ride_id='00F26288896051E4', rideable_type='electric_bike', started_at='2024-07-24 17:32:17.819', ended_at='2024-07-24 17:43:05.587', start_station_name='Driggs Ave & S 2 St', start_station_id='5235.10', end_station_name='Allen St & Hester St', end_station_id='5343.10', start_lat='40.712628', start_lng='-73.960575', end_lat='40.71606', end_lng='-73.99191', member_casual='member'),\n",
       " Row(Unnamed: 0='4000087', ride_id='C9CCE315850A8A3F', rideable_type='electric_bike', started_at='2024-07-19 19:45:03.040', ended_at='2024-07-19 19:52:54.489', start_station_name='Bergen St & Vanderbilt Ave', start_station_id='4157.10', end_station_name='Franklin Ave & Quincy St', end_station_id='4410.02', start_lat='40.6794388', start_lng='-73.9680438', end_lat='40.68636', end_lng='-73.95678', member_casual='member'),\n",
       " Row(Unnamed: 0='4000088', ride_id='1700EE522E9ABE6A', rideable_type='classic_bike', started_at='2024-07-24 20:10:48.814', ended_at='2024-07-24 20:23:14.744', start_station_name='E 7 St & Ave A', start_station_id='5626.07', end_station_name='FDR Drive & E 35 St', end_station_id='6230.04', start_lat='40.72621788', start_lng='-73.98379855', end_lat='40.744219', end_lng='-73.97121214', member_casual='member'),\n",
       " Row(Unnamed: 0='4000089', ride_id='7B42149EE9AEF81B', rideable_type='electric_bike', started_at='2024-07-18 16:01:54.530', ended_at='2024-07-18 16:15:26.356', start_station_name='Wallabout St & Kent Ave', start_station_id='4826.04', end_station_name='Forsyth St & Grand St', end_station_id='5382.07', start_lat='40.6991049', start_lng='-73.960633406', end_lat='40.71779817737835', end_lng='-73.99316132068634', member_casual='member'),\n",
       " Row(Unnamed: 0='4000090', ride_id='4EC2D8DB6FE194BA', rideable_type='classic_bike', started_at='2024-07-25 06:29:30.016', ended_at='2024-07-25 06:35:43.392', start_station_name='W 17 St & 8 Ave', start_station_id='6148.02', end_station_name='W 27 St & 6 Ave', end_station_id='6215.07', start_lat='40.74177603', start_lng='-74.00149746', end_lat='40.74526', end_lng='-73.99062', member_casual='member'),\n",
       " Row(Unnamed: 0='4000091', ride_id='3FDDCD1FDA16BDCF', rideable_type='electric_bike', started_at='2024-07-24 18:16:27.348', ended_at='2024-07-24 18:22:26.832', start_station_name='W 11 St & 6 Ave', start_station_id='5914.03', end_station_name='W 27 St & 6 Ave', end_station_id='6215.07', start_lat='40.73532427', start_lng='-73.99800419', end_lat='40.74526', end_lng='-73.99062', member_casual='member'),\n",
       " Row(Unnamed: 0='4000092', ride_id='C7841F1F1C2E7D06', rideable_type='electric_bike', started_at='2024-07-31 15:12:33.811', ended_at='2024-07-31 15:15:04.459', start_station_name='W 11 St & 6 Ave', start_station_id='5914.03', end_station_name='E 12 St & 3 Ave', end_station_id='5788.12', start_lat='40.73532427', start_lng='-73.99800419', end_lat='40.73223272', end_lng='-73.98889957', member_casual='casual'),\n",
       " Row(Unnamed: 0='4000093', ride_id='0D2280934A4B84C9', rideable_type='electric_bike', started_at='2024-07-31 21:25:32.899', ended_at='2024-07-31 21:34:19.644', start_station_name='Driggs Ave & S 2 St', start_station_id='5235.10', end_station_name='Leonard St & Boerum St', end_station_id='5036.06', start_lat='40.712628', start_lng='-73.960575', end_lat='40.70583339', end_lng='-73.94644578', member_casual='member'),\n",
       " Row(Unnamed: 0='4000094', ride_id='D81DD7C71FA2D3B4', rideable_type='electric_bike', started_at='2024-07-29 21:10:22.734', ended_at='2024-07-29 21:16:11.470', start_station_name='W 11 St & 6 Ave', start_station_id='5914.03', end_station_name='Perry St & Bleecker St', end_station_id='5922.07', start_lat='40.73532427', start_lng='-73.99800419', end_lat='40.73535398', end_lng='-74.00483091', member_casual='member'),\n",
       " Row(Unnamed: 0='4000095', ride_id='7DE5B6A83853C45F', rideable_type='classic_bike', started_at='2024-07-24 17:07:42.796', ended_at='2024-07-24 17:15:05.437', start_station_name='W 17 St & 8 Ave', start_station_id='6148.02', end_station_name='W 27 St & 7 Ave', end_station_id='6257.06', start_lat='40.74177603', start_lng='-74.00149746', end_lat='40.74665', end_lng='-73.99392', member_casual='member'),\n",
       " Row(Unnamed: 0='4000096', ride_id='DC3DF59D9B85D4C2', rideable_type='electric_bike', started_at='2024-07-23 16:05:53.344', ended_at='2024-07-23 16:12:18.230', start_station_name='DeKalb Ave & Vanderbilt Ave', start_station_id='4461.04', end_station_name='Franklin Ave & Quincy St', end_station_id='4410.02', start_lat='40.68940747', start_lng='-73.96885458', end_lat='40.68636', end_lng='-73.95678', member_casual='member'),\n",
       " Row(Unnamed: 0='4000097', ride_id='85AD978683E1BE07', rideable_type='electric_bike', started_at='2024-07-15 15:32:31.511', ended_at='2024-07-15 15:36:08.100', start_station_name='W 17 St & 8 Ave', start_station_id='6148.02', end_station_name='Perry St & Bleecker St', end_station_id='5922.07', start_lat='40.74177603', start_lng='-74.00149746', end_lat='40.73535398', end_lng='-74.00483091', member_casual='member'),\n",
       " Row(Unnamed: 0='4000098', ride_id='4798A1B31470AA36', rideable_type='electric_bike', started_at='2024-07-26 16:22:45.843', ended_at='2024-07-26 16:29:34.480', start_station_name='E 7 St & Ave A', start_station_id='5626.07', end_station_name='Forsyth St & Grand St', end_station_id='5382.07', start_lat='40.72621788', start_lng='-73.98379855', end_lat='40.71779817737835', end_lng='-73.99316132068634', member_casual='casual'),\n",
       " Row(Unnamed: 0='4000099', ride_id='6EAB575A30D746F6', rideable_type='electric_bike', started_at='2024-07-25 23:46:24.884', ended_at='2024-07-25 23:55:27.489', start_station_name='E 7 St & Ave A', start_station_id='5626.07', end_station_name='Forsyth St & Grand St', end_station_id='5382.07', start_lat='40.72621788', start_lng='-73.98379855', end_lat='40.71779817737835', end_lng='-73.99316132068634', member_casual='casual')]"
      ]
     },
     "execution_count": 5,
     "metadata": {},
     "output_type": "execute_result"
    }
   ],
   "source": [
    "df.take(100)"
   ]
  },
  {
   "cell_type": "code",
   "execution_count": null,
   "metadata": {},
   "outputs": [],
   "source": []
  }
 ],
 "metadata": {
  "kernelspec": {
   "display_name": "Joy-Ride",
   "language": "python",
   "name": "python3"
  },
  "language_info": {
   "codemirror_mode": {
    "name": "ipython",
    "version": 3
   },
   "file_extension": ".py",
   "mimetype": "text/x-python",
   "name": "python",
   "nbconvert_exporter": "python",
   "pygments_lexer": "ipython3",
   "version": "3.12.4"
  }
 },
 "nbformat": 4,
 "nbformat_minor": 4
}
