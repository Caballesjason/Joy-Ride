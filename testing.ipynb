{
 "cells": [
  {
   "cell_type": "code",
   "execution_count": 1,
   "metadata": {},
   "outputs": [],
   "source": [
    "from pyspark.sql import SparkSession\n",
    "import pyspark.sql.functions as F\n"
   ]
  },
  {
   "cell_type": "code",
   "execution_count": 2,
   "metadata": {},
   "outputs": [
    {
     "name": "stderr",
     "output_type": "stream",
     "text": [
      "Setting default log level to \"WARN\".\n",
      "To adjust logging level use sc.setLogLevel(newLevel). For SparkR, use setLogLevel(newLevel).\n",
      "25/01/08 23:34:09 WARN NativeCodeLoader: Unable to load native-hadoop library for your platform... using builtin-java classes where applicable\n"
     ]
    },
    {
     "data": {
      "text/html": [
       "\n",
       "            <div>\n",
       "                <p><b>SparkSession - in-memory</b></p>\n",
       "                \n",
       "        <div>\n",
       "            <p><b>SparkContext</b></p>\n",
       "\n",
       "            <p><a href=\"http://macbookpro.projectbellerose2:4040\">Spark UI</a></p>\n",
       "\n",
       "            <dl>\n",
       "              <dt>Version</dt>\n",
       "                <dd><code>v3.5.4</code></dd>\n",
       "              <dt>Master</dt>\n",
       "                <dd><code>local[6]</code></dd>\n",
       "              <dt>AppName</dt>\n",
       "                <dd><code>Joy Ride</code></dd>\n",
       "            </dl>\n",
       "        </div>\n",
       "        \n",
       "            </div>\n",
       "        "
      ],
      "text/plain": [
       "<pyspark.sql.session.SparkSession at 0x1076e6ff0>"
      ]
     },
     "execution_count": 2,
     "metadata": {},
     "output_type": "execute_result"
    }
   ],
   "source": [
    "# Set Up Spark Session\n",
    "spark = SparkSession.builder.appName(\"Joy Ride\").master(\"local[6]\").getOrCreate()\n",
    "spark"
   ]
  },
  {
   "cell_type": "code",
   "execution_count": 19,
   "metadata": {},
   "outputs": [
    {
     "name": "stderr",
     "output_type": "stream",
     "text": [
      "25/01/08 23:38:46 WARN CacheManager: Asked to cache already cached data.\n"
     ]
    },
    {
     "data": {
      "text/plain": [
       "DataFrame[Unnamed: 0: string, ride_id: string, rideable_type: string, started_at: string, ended_at: string, start_station_name: string, start_station_id: string, end_station_name: string, end_station_id: string, start_lat: string, start_lng: string, end_lat: string, end_lng: string, member_casual: string]"
      ]
     },
     "execution_count": 19,
     "metadata": {},
     "output_type": "execute_result"
    }
   ],
   "source": [
    "# Read data\n",
    "path = \"./data/202407-citibike-tripdata_5.csv\"\n",
    "df = spark.read.csv(path, header=True)\n",
    "df.persist() # Only used for testing purposes"
   ]
  },
  {
   "cell_type": "code",
   "execution_count": 20,
   "metadata": {},
   "outputs": [
    {
     "data": {
      "text/plain": [
       "[Row(Unnamed: 0='4000000', ride_id='557426B1CE207702', rideable_type='electric_bike', started_at='2024-07-17 19:30:15.471', ended_at='2024-07-17 19:34:22.646', start_station_name='Sullivan St & Washington Sq', start_station_id='5721.01', end_station_name='E 12 St & 3 Ave', end_station_id='5788.12', start_lat='40.73047747', start_lng='-73.99906065', end_lat='40.73223272', end_lng='-73.98889957', member_casual='member'),\n",
       " Row(Unnamed: 0='4000001', ride_id='A60E366FEE8B51E8', rideable_type='electric_bike', started_at='2024-07-15 19:17:52.523', ended_at='2024-07-15 19:25:24.399', start_station_name='Sullivan St & Washington Sq', start_station_id='5721.01', end_station_name='Forsyth St & Grand St', end_station_id='5382.07', start_lat='40.73047747', start_lng='-73.99906065', end_lat='40.71779817737835', end_lng='-73.99316132068634', member_casual='member'),\n",
       " Row(Unnamed: 0='4000002', ride_id='ACA30207F80B5DF9', rideable_type='classic_bike', started_at='2024-07-27 13:34:48.531', ended_at='2024-07-27 13:49:55.913', start_station_name='W 37 St & 10 Ave', start_station_id='6611.02', end_station_name='Perry St & Bleecker St', end_station_id='5922.07', start_lat='40.75660359', start_lng='-73.9979009', end_lat='40.73535398', end_lng='-74.00483091', member_casual='member'),\n",
       " Row(Unnamed: 0='4000003', ride_id='B3A138C956E9A729', rideable_type='electric_bike', started_at='2024-07-23 11:01:36.895', ended_at='2024-07-23 11:06:02.796', start_station_name='Melrose St & Broadway', start_station_id='4801.04', end_station_name='Nostrand Ave & Myrtle Ave', end_station_id='4707.04', start_lat='40.697481', start_lng='-73.935877', end_lat='40.69527008', end_lng='-73.95238108', member_casual='member'),\n",
       " Row(Unnamed: 0='4000004', ride_id='EA0BFE3B299B0672', rideable_type='electric_bike', started_at='2024-07-16 19:19:15.034', ended_at='2024-07-16 19:50:39.140', start_station_name='Melrose St & Broadway', start_station_id='4801.04', end_station_name='W 27 St & 7 Ave', end_station_id='6257.06', start_lat='40.697481', start_lng='-73.935877', end_lat='40.74665', end_lng='-73.99392', member_casual='member')]"
      ]
     },
     "execution_count": 20,
     "metadata": {},
     "output_type": "execute_result"
    }
   ],
   "source": [
    "df.take(5)"
   ]
  },
  {
   "cell_type": "markdown",
   "metadata": {},
   "source": [
    "# BikeRides Table Attributes\n",
    "- __ride_id__  - unique ID for ride `PRIMARY KEY` `CHAR`\n",
    "- __bike_type__ - type of bike used (E for electric, M for mechanical) `CHAR(1)`\n",
    "- __start_date__ - Date ride started `DATE`\n",
    "- __start_time__ - Time ride started `TIME`\n",
    "- __end_date__ - Date ride ended `DATE`\n",
    "- __end_time__ - Time ride ended `TIME`\n",
    "- __strt_station_id__ - ID for start station `FOREIGN KEY` `CHAR`\n",
    "- __end_station_id__ - ID for end station `FOREIGN KEY`\n",
    "- __member_type__ - Membership type (Member or Casual) `CHAR`"
   ]
  },
  {
   "cell_type": "code",
   "execution_count": 34,
   "metadata": {},
   "outputs": [],
   "source": [
    "# Set bike_type to be E or M\n",
    "bike_type_mapper = F.udf(lambda val: 'E' if val=='electric_bike' else ('M' if val=='classic_bike' else None))\n",
    "df = df.withColumn('bike_type', bike_type_mapper('rideable_type'))\n",
    "# Get date frome start and end at fields\n",
    "df = df.withColumn('start_date', F.regexp_extract('started_at', '(\\\\d{2}-\\\\d{2}-\\\\d{2})', 1))\n",
    "df = df.withColumn('end_date', F.regexp_extract('ended_at', '(\\\\d{2}-\\\\d{2}-\\\\d{2})', 1))\n",
    "# Get time from start and end at fields\n",
    "df = df.withColumn('start_time', F.regexp_extract('started_at', '(\\\\d{2}:\\\\d{2}:\\\\d{2})', 1))\n",
    "df = df.withColumn('end_time', F.regexp_extract('ended_at', '(\\\\d{2}:\\\\d{2}:\\\\d{2})', 1))"
   ]
  },
  {
   "cell_type": "code",
   "execution_count": 35,
   "metadata": {},
   "outputs": [
    {
     "data": {
      "text/plain": [
       "[Row(Unnamed: 0='4000000', ride_id='557426B1CE207702', rideable_type='electric_bike', started_at='2024-07-17 19:30:15.471', ended_at='2024-07-17 19:34:22.646', start_station_name='Sullivan St & Washington Sq', start_station_id='5721.01', end_station_name='E 12 St & 3 Ave', end_station_id='5788.12', start_lat='40.73047747', start_lng='-73.99906065', end_lat='40.73223272', end_lng='-73.98889957', member_casual='member', bike_type='E', start_date='24-07-17', end_date='24-07-17', start_time='19:30:15', end_time='19:34:22'),\n",
       " Row(Unnamed: 0='4000001', ride_id='A60E366FEE8B51E8', rideable_type='electric_bike', started_at='2024-07-15 19:17:52.523', ended_at='2024-07-15 19:25:24.399', start_station_name='Sullivan St & Washington Sq', start_station_id='5721.01', end_station_name='Forsyth St & Grand St', end_station_id='5382.07', start_lat='40.73047747', start_lng='-73.99906065', end_lat='40.71779817737835', end_lng='-73.99316132068634', member_casual='member', bike_type='E', start_date='24-07-15', end_date='24-07-15', start_time='19:17:52', end_time='19:25:24'),\n",
       " Row(Unnamed: 0='4000002', ride_id='ACA30207F80B5DF9', rideable_type='classic_bike', started_at='2024-07-27 13:34:48.531', ended_at='2024-07-27 13:49:55.913', start_station_name='W 37 St & 10 Ave', start_station_id='6611.02', end_station_name='Perry St & Bleecker St', end_station_id='5922.07', start_lat='40.75660359', start_lng='-73.9979009', end_lat='40.73535398', end_lng='-74.00483091', member_casual='member', bike_type='M', start_date='24-07-27', end_date='24-07-27', start_time='13:34:48', end_time='13:49:55'),\n",
       " Row(Unnamed: 0='4000003', ride_id='B3A138C956E9A729', rideable_type='electric_bike', started_at='2024-07-23 11:01:36.895', ended_at='2024-07-23 11:06:02.796', start_station_name='Melrose St & Broadway', start_station_id='4801.04', end_station_name='Nostrand Ave & Myrtle Ave', end_station_id='4707.04', start_lat='40.697481', start_lng='-73.935877', end_lat='40.69527008', end_lng='-73.95238108', member_casual='member', bike_type='E', start_date='24-07-23', end_date='24-07-23', start_time='11:01:36', end_time='11:06:02'),\n",
       " Row(Unnamed: 0='4000004', ride_id='EA0BFE3B299B0672', rideable_type='electric_bike', started_at='2024-07-16 19:19:15.034', ended_at='2024-07-16 19:50:39.140', start_station_name='Melrose St & Broadway', start_station_id='4801.04', end_station_name='W 27 St & 7 Ave', end_station_id='6257.06', start_lat='40.697481', start_lng='-73.935877', end_lat='40.74665', end_lng='-73.99392', member_casual='member', bike_type='E', start_date='24-07-16', end_date='24-07-16', start_time='19:19:15', end_time='19:50:39')]"
      ]
     },
     "execution_count": 35,
     "metadata": {},
     "output_type": "execute_result"
    }
   ],
   "source": [
    "df.take(5)"
   ]
  },
  {
   "cell_type": "code",
   "execution_count": null,
   "metadata": {},
   "outputs": [],
   "source": []
  }
 ],
 "metadata": {
  "kernelspec": {
   "display_name": "Joy-Ride",
   "language": "python",
   "name": "python3"
  },
  "language_info": {
   "codemirror_mode": {
    "name": "ipython",
    "version": 3
   },
   "file_extension": ".py",
   "mimetype": "text/x-python",
   "name": "python",
   "nbconvert_exporter": "python",
   "pygments_lexer": "ipython3",
   "version": "3.12.4"
  }
 },
 "nbformat": 4,
 "nbformat_minor": 4
}
